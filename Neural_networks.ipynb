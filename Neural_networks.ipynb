{
 "cells": [
  {
   "cell_type": "code",
   "execution_count": 1,
   "metadata": {},
   "outputs": [],
   "source": [
    "# Задача: построить классификатор, используя нейронную сеть\n",
    "\n",
    "import torch\n",
    "import random\n",
    "import numpy as np\n",
    "import pandas as pd\n",
    "import matplotlib.pyplot as plt\n",
    "import matplotlib\n",
    "%matplotlib inline"
   ]
  },
  {
   "cell_type": "code",
   "execution_count": 2,
   "metadata": {},
   "outputs": [],
   "source": [
    "random.seed(0)    # мы всегда будем использовать нулевую последовательность при вызове случайного генератора библиотеки random\n",
    "np.random.seed(0)\n",
    "torch.manual_seed(0)    # seed в PyTorch, отвечающий за расчет на CPU\n",
    "torch.cuda.manual_seed(0)    # seed в PyTorch, отвечающий за расчет на GPU\n",
    "torch.backends.cudnn.deterministic = True    # При расчетах на видеокарте используется библиотека cudnn\n",
    "\n",
    "# Выставив параметры выше, мы можем гарантировать воспроизводимость наших экспериментов"
   ]
  },
  {
   "cell_type": "code",
   "execution_count": 3,
   "metadata": {},
   "outputs": [
    {
     "data": {
      "text/plain": [
       "(178, 13)"
      ]
     },
     "execution_count": 3,
     "metadata": {},
     "output_type": "execute_result"
    }
   ],
   "source": [
    "# Загрузим датасет с винами\n",
    "\n",
    "import sklearn.datasets\n",
    "wine = sklearn.datasets.load_wine()\n",
    "wine.data.shape"
   ]
  },
  {
   "cell_type": "code",
   "execution_count": 4,
   "metadata": {},
   "outputs": [],
   "source": [
    "X = wine.data\n",
    "y = wine.target"
   ]
  },
  {
   "cell_type": "code",
   "execution_count": 5,
   "metadata": {},
   "outputs": [
    {
     "data": {
      "text/html": [
       "<div>\n",
       "<style scoped>\n",
       "    .dataframe tbody tr th:only-of-type {\n",
       "        vertical-align: middle;\n",
       "    }\n",
       "\n",
       "    .dataframe tbody tr th {\n",
       "        vertical-align: top;\n",
       "    }\n",
       "\n",
       "    .dataframe thead th {\n",
       "        text-align: right;\n",
       "    }\n",
       "</style>\n",
       "<table border=\"1\" class=\"dataframe\">\n",
       "  <thead>\n",
       "    <tr style=\"text-align: right;\">\n",
       "      <th></th>\n",
       "      <th>Alcohol</th>\n",
       "      <th>Malic_acid</th>\n",
       "      <th>Ash</th>\n",
       "      <th>Alcalinity_of_ash</th>\n",
       "      <th>Magnesium</th>\n",
       "      <th>Total_phenols</th>\n",
       "      <th>Flavanoids</th>\n",
       "      <th>Nonflavanoid_phenols</th>\n",
       "      <th>Proanthocyanins</th>\n",
       "      <th>Color_intensity</th>\n",
       "      <th>Hue</th>\n",
       "      <th>OD280/OD315</th>\n",
       "      <th>Proline</th>\n",
       "    </tr>\n",
       "  </thead>\n",
       "  <tbody>\n",
       "    <tr>\n",
       "      <td>0</td>\n",
       "      <td>14.23</td>\n",
       "      <td>1.71</td>\n",
       "      <td>2.43</td>\n",
       "      <td>15.6</td>\n",
       "      <td>127.0</td>\n",
       "      <td>2.80</td>\n",
       "      <td>3.06</td>\n",
       "      <td>0.28</td>\n",
       "      <td>2.29</td>\n",
       "      <td>5.64</td>\n",
       "      <td>1.04</td>\n",
       "      <td>3.92</td>\n",
       "      <td>1065.0</td>\n",
       "    </tr>\n",
       "    <tr>\n",
       "      <td>1</td>\n",
       "      <td>13.20</td>\n",
       "      <td>1.78</td>\n",
       "      <td>2.14</td>\n",
       "      <td>11.2</td>\n",
       "      <td>100.0</td>\n",
       "      <td>2.65</td>\n",
       "      <td>2.76</td>\n",
       "      <td>0.26</td>\n",
       "      <td>1.28</td>\n",
       "      <td>4.38</td>\n",
       "      <td>1.05</td>\n",
       "      <td>3.40</td>\n",
       "      <td>1050.0</td>\n",
       "    </tr>\n",
       "    <tr>\n",
       "      <td>2</td>\n",
       "      <td>13.16</td>\n",
       "      <td>2.36</td>\n",
       "      <td>2.67</td>\n",
       "      <td>18.6</td>\n",
       "      <td>101.0</td>\n",
       "      <td>2.80</td>\n",
       "      <td>3.24</td>\n",
       "      <td>0.30</td>\n",
       "      <td>2.81</td>\n",
       "      <td>5.68</td>\n",
       "      <td>1.03</td>\n",
       "      <td>3.17</td>\n",
       "      <td>1185.0</td>\n",
       "    </tr>\n",
       "    <tr>\n",
       "      <td>3</td>\n",
       "      <td>14.37</td>\n",
       "      <td>1.95</td>\n",
       "      <td>2.50</td>\n",
       "      <td>16.8</td>\n",
       "      <td>113.0</td>\n",
       "      <td>3.85</td>\n",
       "      <td>3.49</td>\n",
       "      <td>0.24</td>\n",
       "      <td>2.18</td>\n",
       "      <td>7.80</td>\n",
       "      <td>0.86</td>\n",
       "      <td>3.45</td>\n",
       "      <td>1480.0</td>\n",
       "    </tr>\n",
       "    <tr>\n",
       "      <td>4</td>\n",
       "      <td>13.24</td>\n",
       "      <td>2.59</td>\n",
       "      <td>2.87</td>\n",
       "      <td>21.0</td>\n",
       "      <td>118.0</td>\n",
       "      <td>2.80</td>\n",
       "      <td>2.69</td>\n",
       "      <td>0.39</td>\n",
       "      <td>1.82</td>\n",
       "      <td>4.32</td>\n",
       "      <td>1.04</td>\n",
       "      <td>2.93</td>\n",
       "      <td>735.0</td>\n",
       "    </tr>\n",
       "  </tbody>\n",
       "</table>\n",
       "</div>"
      ],
      "text/plain": [
       "   Alcohol  Malic_acid   Ash  Alcalinity_of_ash  Magnesium  Total_phenols  \\\n",
       "0    14.23        1.71  2.43               15.6      127.0           2.80   \n",
       "1    13.20        1.78  2.14               11.2      100.0           2.65   \n",
       "2    13.16        2.36  2.67               18.6      101.0           2.80   \n",
       "3    14.37        1.95  2.50               16.8      113.0           3.85   \n",
       "4    13.24        2.59  2.87               21.0      118.0           2.80   \n",
       "\n",
       "   Flavanoids  Nonflavanoid_phenols  Proanthocyanins  Color_intensity   Hue  \\\n",
       "0        3.06                  0.28             2.29             5.64  1.04   \n",
       "1        2.76                  0.26             1.28             4.38  1.05   \n",
       "2        3.24                  0.30             2.81             5.68  1.03   \n",
       "3        3.49                  0.24             2.18             7.80  0.86   \n",
       "4        2.69                  0.39             1.82             4.32  1.04   \n",
       "\n",
       "   OD280/OD315  Proline  \n",
       "0         3.92   1065.0  \n",
       "1         3.40   1050.0  \n",
       "2         3.17   1185.0  \n",
       "3         3.45   1480.0  \n",
       "4         2.93    735.0  "
      ]
     },
     "execution_count": 5,
     "metadata": {},
     "output_type": "execute_result"
    }
   ],
   "source": [
    "df = pd.DataFrame(X)\n",
    "df = df.rename(columns={0: 'Alcohol', \\\n",
    "                        1: 'Malic_acid', \\\n",
    "                        2: 'Ash', \\\n",
    "                        3: 'Alcalinity_of_ash', \\\n",
    "                        4: 'Magnesium', \\\n",
    "                        5: 'Total_phenols', \\\n",
    "                        6: 'Flavanoids', \\\n",
    "                        7: 'Nonflavanoid_phenols', \\\n",
    "                        8: 'Proanthocyanins', \\\n",
    "                        9: 'Color_intensity',\n",
    "                        10: 'Hue', \\\n",
    "                        11: 'OD280/OD315', \\\n",
    "                        12: 'Proline'})\n",
    "\n",
    "df.head()"
   ]
  },
  {
   "cell_type": "code",
   "execution_count": 6,
   "metadata": {},
   "outputs": [],
   "source": [
    "from sklearn.model_selection import train_test_split\n",
    "\n",
    "# Сначала возьмем только 2 признака из 13, для удобства визуализации:\n",
    "\n",
    "X_train, X_test, y_train, y_test = train_test_split(df[['Alcohol', 'Malic_acid']], y, test_size=0.3, shuffle=True, stratify=y)\n",
    "# shuffle=True - перемешиваем датасет перед разбиением\n",
    "# stratify=y предотвращаем проблему несбалансированности классов  "
   ]
  },
  {
   "cell_type": "code",
   "execution_count": 7,
   "metadata": {},
   "outputs": [],
   "source": [
    "# Обернем наши выборки в Torch-тензоры:\n",
    "X_train = torch.FloatTensor(X_train.to_numpy())\n",
    "X_test = torch.FloatTensor(X_test.to_numpy())\n",
    "y_train = torch.LongTensor(y_train)\n",
    "y_test = torch.LongTensor(y_test)"
   ]
  },
  {
   "cell_type": "code",
   "execution_count": 8,
   "metadata": {},
   "outputs": [
    {
     "name": "stdout",
     "output_type": "stream",
     "text": [
      "torch.Size([124, 2])\n",
      "torch.Size([54, 2])\n",
      "torch.Size([124])\n",
      "torch.Size([54])\n"
     ]
    }
   ],
   "source": [
    "print(X_train.shape)\n",
    "print(X_test.shape)\n",
    "print(y_train.shape)\n",
    "print(y_test.shape)"
   ]
  },
  {
   "cell_type": "code",
   "execution_count": 9,
   "metadata": {},
   "outputs": [],
   "source": [
    "# Реализуем класс WineNet для классификации\n",
    "class WineNet(torch.nn.Module):    # наследуем класс от torch.nn.module\n",
    "    def __init__(self, n_hidden_neurons):\n",
    "        super(WineNet, self).__init__()\n",
    "        \n",
    "        self.fc1 = torch.nn.Linear(2, n_hidden_neurons)    # fully connected слой, 2 входа, на выходе n_hidden_neurons\n",
    "        self.activ1 = torch.nn.Sigmoid()    # сигмоидная активация\n",
    "        self.fc2 = torch.nn.Linear(n_hidden_neurons, 3)    \n",
    "        # На выходе этих 3-х нейронов будут некоторые числа, \n",
    "        # которые после этого мы передадим в Softmax и получим вероятности классов\n",
    "        self.sm = torch.nn.Softmax(dim=1)    # инициализация Softmax, dim=1 - Softmax применяется построчно\n",
    "        \n",
    "    def forward(self, x):    # Функция forward будет реализовывать граф нашей нейросети\n",
    "        x = self.fc1(x)\n",
    "        x = self.activ1(x)\n",
    "        x = self.fc2(x)\n",
    "        # Отметим, что здесь мы не использовали Softmax.\n",
    "        return x\n",
    "\n",
    "    def inference(self, x):    # функция inference необходима для подсчета вероятностей\n",
    "        x = self.forward(x)\n",
    "        x = self.sm(x)\n",
    "        return x\n",
    "    \n",
    "wine_net = WineNet(5)    # Инициализируем нашу нейросеть с n_hidden_neurons = 5"
   ]
  },
  {
   "cell_type": "code",
   "execution_count": 10,
   "metadata": {},
   "outputs": [],
   "source": [
    "loss = torch.nn.CrossEntropyLoss()    # Функция потерь - бинарная кросс-энтропия\n",
    "# Эта функция использует не выходы после Softmax, а выходы нейронной сети, еще не пропущенные через Softmax\n",
    "\n",
    "optimizer = torch.optim.Adam(wine_net.parameters(),   # Optimizer необходим для вычисления градиентных шагов\n",
    "                            lr= 1.0e-3 )    # Передаем в него веса"
   ]
  },
  {
   "cell_type": "code",
   "execution_count": 11,
   "metadata": {},
   "outputs": [
    {
     "name": "stderr",
     "output_type": "stream",
     "text": [
      "C:\\Users\\pavel.molchanov\\AppData\\Local\\Continuum\\anaconda3\\lib\\site-packages\\torch\\autograd\\__init__.py:132: UserWarning: CUDA initialization: Found no NVIDIA driver on your system. Please check that you have an NVIDIA GPU and installed a driver from http://www.nvidia.com/Download/index.aspx (Triggered internally at  ..\\c10\\cuda\\CUDAFunctions.cpp:100.)\n",
      "  allow_unreachable=True)  # allow_unreachable flag\n"
     ]
    },
    {
     "name": "stdout",
     "output_type": "stream",
     "text": [
      "tensor(0.3889)\n",
      "tensor(0.5000)\n",
      "tensor(0.5370)\n",
      "tensor(0.5556)\n",
      "tensor(0.6111)\n",
      "tensor(0.7037)\n",
      "tensor(0.7593)\n",
      "tensor(0.7593)\n",
      "tensor(0.7778)\n",
      "tensor(0.7778)\n",
      "tensor(0.7593)\n",
      "tensor(0.7778)\n",
      "tensor(0.7963)\n",
      "tensor(0.7778)\n",
      "tensor(0.7778)\n",
      "tensor(0.7778)\n",
      "tensor(0.8148)\n",
      "tensor(0.8148)\n",
      "tensor(0.8148)\n",
      "tensor(0.8519)\n",
      "tensor(0.8519)\n",
      "tensor(0.8519)\n",
      "tensor(0.8519)\n",
      "tensor(0.8519)\n",
      "tensor(0.8704)\n",
      "tensor(0.8704)\n",
      "tensor(0.8704)\n",
      "tensor(0.8704)\n",
      "tensor(0.8704)\n",
      "tensor(0.8704)\n",
      "tensor(0.8704)\n",
      "tensor(0.8519)\n",
      "tensor(0.8519)\n",
      "tensor(0.8519)\n",
      "tensor(0.8519)\n",
      "tensor(0.8519)\n",
      "tensor(0.8333)\n",
      "tensor(0.8704)\n",
      "tensor(0.8519)\n",
      "tensor(0.8519)\n",
      "tensor(0.8333)\n",
      "tensor(0.8519)\n",
      "tensor(0.8333)\n",
      "tensor(0.8333)\n",
      "tensor(0.8519)\n",
      "tensor(0.8333)\n",
      "tensor(0.8333)\n",
      "tensor(0.8333)\n",
      "tensor(0.8333)\n",
      "tensor(0.8333)\n"
     ]
    }
   ],
   "source": [
    "# Каждую эпоху мы будем делать перемешивание нашего датасета, определять переменную order, \n",
    "# которая отвечает за порядок элементов\n",
    "\n",
    "batch_size = 10    \n",
    "\n",
    "for epoch in range(5000):\n",
    "    order = np.random.permutation(len(X_train))    # order - это порядок индексов, который нужно применить к датасету\n",
    "    for start_index in range(0, len(X_train), batch_size):\n",
    "        optimizer.zero_grad()\n",
    "        \n",
    "        batch_indexes = order[start_index:start_index+batch_size]    # набор индексов, соответствующих текущему batch   \n",
    "        \n",
    "        x_batch = X_train[batch_indexes]    # вырезаем участки длиной batch_size\n",
    "        y_batch = y_train[batch_indexes]    # вырезаем участки длиной batch_size\n",
    "        \n",
    "        preds = wine_net.forward(x_batch)    # пропускаем весь batch через нейросеть, получаем предсказания\n",
    "        # (без софтмакса, выходы на последних 3-х нейронах)\n",
    "        \n",
    "        loss_value = loss(preds, y_batch)    # считаем loss на выходах нейронной сети и реальных значениях\n",
    "        loss_value.backward()    # делаем backward, чтобы посчитать производную, результаты передаем в optimizer\n",
    "        \n",
    "        optimizer.step()\n",
    "        \n",
    "    if epoch % 100 == 0:\n",
    "        test_preds = wine_net.forward(X_test)\n",
    "        test_preds = test_preds.argmax(dim=1)    # смотрим, какому из выходов соответствовало максимальное значение\n",
    "        # argmax - это номер нейрона - сравниваем его с истинным классом, который находится в y_test\n",
    "        print((test_preds == y_test).float().mean())\n",
    "# Ниже в результате работы кода мы видим растущее с числом пройденных эпох значение accuracy"
   ]
  },
  {
   "cell_type": "code",
   "execution_count": 12,
   "metadata": {},
   "outputs": [
    {
     "data": {
      "image/png": "[encoded data removed]",
      "text/plain": [
       "<Figure size 720x576 with 1 Axes>"
      ]
     },
     "metadata": {
      "needs_background": "light"
     },
     "output_type": "display_data"
    }
   ],
   "source": [
    "# Визуализируем результат:\n",
    "# Точками обозначен тренировочный датасет, области - то, как нейросеть классифицировала бы соответствующие значения\n",
    "plt.rcParams['figure.figsize'] = (10, 8)\n",
    "\n",
    "n_classes = 3\n",
    "plot_colors = ['green', 'orange', 'black']\n",
    "plot_step = 0.02\n",
    "\n",
    "x_min, x_max = X_train[:, 0].min() - 1, X_train[:, 0].max() + 1\n",
    "y_min, y_max = X_train[:, 1].min() - 1, X_train[:, 1].max() + 1\n",
    "\n",
    "xx, yy =  torch.meshgrid(torch.arange(x_min, x_max, plot_step),\n",
    "                         torch.arange(y_min, y_max, plot_step))\n",
    "\n",
    "preds = wine_net.inference(\n",
    "    torch.cat([xx.reshape(-1, 1), yy.reshape(-1, 1)], dim=1))\n",
    "\n",
    "preds_class = preds.data.numpy().argmax(axis=1)\n",
    "preds_class = preds_class.reshape(xx.shape)\n",
    "plt.contourf(xx, yy, preds_class, cmap='Accent')\n",
    "\n",
    "for i, color in zip(range(n_classes), plot_colors):\n",
    "    indexes = np.where(y_train == i)\n",
    "    plt.scatter(X_train[indexes, 0], \n",
    "                X_train[indexes, 1], \n",
    "                c=color, \n",
    "                label=wine.target_names[i],\n",
    "                cmap='Accent')\n",
    "    plt.xlabel(wine.feature_names[0])\n",
    "    plt.ylabel(wine.feature_names[1])\n",
    "    plt.legend()"
   ]
  },
  {
   "cell_type": "code",
   "execution_count": null,
   "metadata": {},
   "outputs": [],
   "source": []
  },
  {
   "cell_type": "code",
   "execution_count": 13,
   "metadata": {},
   "outputs": [],
   "source": [
    "# Теперь воспользуемся всеми признаками\n",
    "from sklearn.model_selection import train_test_split\n",
    "\n",
    "X_train, X_test, y_train, y_test = train_test_split(df, y, test_size=0.3, shuffle=True, stratify=y)    \n",
    "# stratify=y - предотвращаем проблему несбалансированности классов  "
   ]
  },
  {
   "cell_type": "code",
   "execution_count": 14,
   "metadata": {},
   "outputs": [],
   "source": [
    "# Обернем наши выборки в PyTorch-тензоры\n",
    "X_train = torch.FloatTensor(X_train.to_numpy())\n",
    "X_test = torch.FloatTensor(X_test.to_numpy())\n",
    "y_train = torch.LongTensor(y_train)\n",
    "y_test = torch.LongTensor(y_test)"
   ]
  },
  {
   "cell_type": "code",
   "execution_count": 15,
   "metadata": {},
   "outputs": [
    {
     "name": "stdout",
     "output_type": "stream",
     "text": [
      "torch.Size([124, 13])\n",
      "torch.Size([54, 13])\n",
      "torch.Size([124])\n",
      "torch.Size([54])\n"
     ]
    }
   ],
   "source": [
    "print(X_train.shape)\n",
    "print(X_test.shape)\n",
    "print(y_train.shape)\n",
    "print(y_test.shape)"
   ]
  },
  {
   "cell_type": "code",
   "execution_count": 16,
   "metadata": {},
   "outputs": [],
   "source": [
    "# Реализуем класс WineNet для классификации\n",
    "class WineNet(torch.nn.Module):    # наследуем класс от torch.nn.module\n",
    "    def __init__(self, n_hidden_neurons):\n",
    "        super(WineNet, self).__init__()\n",
    "        \n",
    "        self.fc1 = torch.nn.Linear(13, n_hidden_neurons)    # fully connected слой, 13 входов, на выходе n_hidden_neurons\n",
    "        self.activ1 = torch.nn.Sigmoid()   \n",
    "        self.fc2 = torch.nn.Linear(n_hidden_neurons, 3)    \n",
    "        self.sm = torch.nn.Softmax(dim=1)    # инициализация Softmax, dim=1 - Softmax применяется построчно\n",
    "        \n",
    "    def forward(self, x):    # Функция forward будет реализовывать граф нашей нейросети\n",
    "        x = self.fc1(x)\n",
    "        x = self.activ1(x)\n",
    "        x = self.fc2(x)\n",
    "        # Отметим, что здесь мы не использовали Softmax.\n",
    "        return x\n",
    "\n",
    "    def inference(self, x):    # функция inference необходима для подсчета вероятностей\n",
    "        x = self.forward(x)\n",
    "        x = self.sm(x)\n",
    "        return x\n",
    "    \n",
    "wine_net = WineNet(50)    # Инициализируем нашу нейросеть с n_hidden_neurons = 50"
   ]
  },
  {
   "cell_type": "code",
   "execution_count": 17,
   "metadata": {},
   "outputs": [],
   "source": [
    "loss = torch.nn.CrossEntropyLoss()    # Функция потерь - бинарная кросс-энтропия\n",
    "# Эта функция использует не выходы после Softmax, а выходы нейронной сети, еще не пропущенные через Softmax\n",
    "\n",
    "optimizer = torch.optim.Adam(wine_net.parameters(),   # Optimizer необходим для вычисления градиентных шагов\n",
    "                            lr= 1.0e-3 )    # Передаем в него веса"
   ]
  },
  {
   "cell_type": "code",
   "execution_count": 18,
   "metadata": {},
   "outputs": [
    {
     "name": "stdout",
     "output_type": "stream",
     "text": [
      "tensor(0.3333)\n",
      "tensor(0.9259)\n",
      "tensor(0.9259)\n",
      "tensor(0.9259)\n",
      "tensor(0.9444)\n",
      "tensor(0.9259)\n",
      "tensor(0.9444)\n",
      "tensor(0.9444)\n",
      "tensor(0.9444)\n",
      "tensor(0.9444)\n",
      "tensor(0.9444)\n",
      "tensor(0.9444)\n",
      "tensor(0.9444)\n",
      "tensor(0.9444)\n",
      "tensor(0.9444)\n",
      "tensor(0.9444)\n",
      "tensor(0.9444)\n",
      "tensor(0.9444)\n",
      "tensor(0.9444)\n",
      "tensor(0.9444)\n",
      "tensor(0.9444)\n",
      "tensor(0.9444)\n",
      "tensor(0.9444)\n",
      "tensor(0.9444)\n",
      "tensor(0.9444)\n",
      "tensor(0.9444)\n",
      "tensor(0.9444)\n",
      "tensor(0.9444)\n",
      "tensor(0.9444)\n",
      "tensor(0.9444)\n",
      "tensor(0.9444)\n",
      "tensor(0.9444)\n",
      "tensor(0.9444)\n",
      "tensor(0.9444)\n",
      "tensor(0.9444)\n",
      "tensor(0.9444)\n",
      "tensor(0.9444)\n",
      "tensor(0.9444)\n",
      "tensor(0.9444)\n",
      "tensor(0.9444)\n",
      "tensor(0.9444)\n",
      "tensor(0.9444)\n",
      "tensor(0.9444)\n",
      "tensor(0.9444)\n",
      "tensor(0.9444)\n",
      "tensor(0.9444)\n",
      "tensor(0.9444)\n",
      "tensor(0.9444)\n",
      "tensor(0.9444)\n",
      "tensor(0.9444)\n"
     ]
    }
   ],
   "source": [
    "# Каждую эпоху мы будем делать перемешивание нашего датасета, определять переменную order, \n",
    "# которая отвечает за порядок элементов\n",
    "\n",
    "batch_size = 10    \n",
    "\n",
    "for epoch in range(5000):\n",
    "    order = np.random.permutation(len(X_train))    # order - это порядок индексов, который нужно применить к датасету\n",
    "    for start_index in range(0, len(X_train), batch_size):\n",
    "        optimizer.zero_grad()\n",
    "        \n",
    "        batch_indexes = order[start_index:start_index+batch_size]    # набор индексов, соответствующих текущему batch   \n",
    "        \n",
    "        x_batch = X_train[batch_indexes]    # вырезаем участки длиной batch_size\n",
    "        y_batch = y_train[batch_indexes]    # вырезаем участки длиной batch_size\n",
    "        \n",
    "        preds = wine_net.forward(x_batch)    # пропускаем весь batch через нейросеть, получаем предсказания\n",
    "        # (без софтмакса, выходы на последних 3-х нейронах)\n",
    "        \n",
    "        loss_value = loss(preds, y_batch)    # считаем loss на выходах нейронной сети и реальных значениях\n",
    "        loss_value.backward()    # делаем backward, чтобы посчитать производную, результаты передаем в optimizer\n",
    "        \n",
    "        optimizer.step()\n",
    "        \n",
    "    if epoch % 100 == 0:    # Каждые 100 эпох мы будем вычислять метрики на тестовом датасете\n",
    "        test_preds = wine_net.forward(X_test)\n",
    "        test_preds = test_preds.argmax(dim=1)    # смотрим, какому из выходов соответствовало максимальное значение\n",
    "        # argmax - это номер нейрона - сравниваем его с истинным классом, который находится в y_test\n",
    "        print((test_preds == y_test).float().mean())    # Accuracy"
   ]
  },
  {
   "cell_type": "code",
   "execution_count": 19,
   "metadata": {},
   "outputs": [],
   "source": [
    "# Как мы видим, при использовании 13 признаков вместо 2 и увеличении n_hidden_neurons, accuracy поднялась с 83% до 94%"
   ]
  },
  {
   "cell_type": "code",
   "execution_count": null,
   "metadata": {},
   "outputs": [],
   "source": []
  }
 ],
 "metadata": {
  "kernelspec": {
   "display_name": "Python 3",
   "language": "python",
   "name": "python3"
  },
  "language_info": {
   "codemirror_mode": {
    "name": "ipython",
    "version": 3
   },
   "file_extension": ".py",
   "mimetype": "text/x-python",
   "name": "python",
   "nbconvert_exporter": "python",
   "pygments_lexer": "ipython3",
   "version": "3.7.4"
  }
 },
 "nbformat": 4,
 "nbformat_minor": 2
}
